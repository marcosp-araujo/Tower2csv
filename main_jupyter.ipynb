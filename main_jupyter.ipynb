{
 "cells": [
  {
   "cell_type": "code",
   "execution_count": 1,
   "id": "a776bb31",
   "metadata": {},
   "outputs": [
    {
     "name": "stdout",
     "output_type": "stream",
     "text": [
      "Reading huragl116S1 files\n",
      "Reading huragl21S1 files\n",
      "Reading huragl70S1 files\n",
      "Reading psagl21S1 files\n",
      "Reading taagl116S1 files\n",
      "Reading taagl21S1 files\n",
      "Reading taagl70S1 files\n",
      "Reading wdiragl116S1 files\n",
      "Reading wdiragl116S2 files\n",
      "Reading wdiragl116S3 files\n",
      "Reading wdiragl116S4 files\n",
      "Reading wdiragl21S1 files\n",
      "Reading wdiragl21S2 files\n",
      "Reading wdiragl21S3 files\n",
      "Reading wdiragl21S4 files\n",
      "Reading wdiragl70S1 files\n",
      "Reading wdiragl70S2 files\n",
      "Reading wdiragl70S3 files\n",
      "Reading wdiragl70S4 files\n",
      "Reading windagl116S1 files\n",
      "Reading windagl116S2 files\n",
      "Reading windagl116S3 files\n",
      "Reading windagl21S1 files\n",
      "Reading windagl21S2 files\n",
      "Reading windagl21S3 files\n",
      "Reading windagl70S1 files\n",
      "Reading windagl70S2 files\n",
      "Reading windagl70S3 files\n",
      "Saving .csv file: c:\\Users\\m.araujo\\OneDrive - EOLOS\\Documentos\\My_documents\\Python\\GitHub\\Tower2csv/2009.csv \n",
      " PLEASE WAIT.\n",
      "The .csv file has been saved.\n"
     ]
    }
   ],
   "source": [
    "# Main script example of how to use the Tower2csv\n",
    "# version 1.0\n",
    "\n",
    "from Tower2csv import Tower2csv\n",
    "\n",
    "netcdf_dir = \"./owez/10minutely/\" # directory of the netCDF files\n",
    "save_dir = \"./\"  # directory to save the .csv file\n",
    "save_file_name = \"owez\" # year to be converted\n",
    "\n",
    "T = Tower2csv(netcdf_dir, save_dir, save_file_name)"
   ]
  }
 ],
 "metadata": {
  "kernelspec": {
   "display_name": "Python 3 (ipykernel)",
   "language": "python",
   "name": "python3"
  },
  "language_info": {
   "codemirror_mode": {
    "name": "ipython",
    "version": 3
   },
   "file_extension": ".py",
   "mimetype": "text/x-python",
   "name": "python",
   "nbconvert_exporter": "python",
   "pygments_lexer": "ipython3",
   "version": "3.12.0"
  }
 },
 "nbformat": 4,
 "nbformat_minor": 5
}
